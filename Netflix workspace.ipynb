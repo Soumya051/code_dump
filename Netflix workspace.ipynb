{
 "cells": [
  {
   "cell_type": "code",
   "execution_count": 71,
   "metadata": {},
   "outputs": [],
   "source": [
    "import pandas as pd\n",
    "import numpy as np\n",
    "import seaborn as sns\n",
    "import matplotlib.pyplot as plt\n",
    "from sklearn import preprocessing\n",
    "\n",
    "%matplotlib inline"
   ]
  },
  {
   "cell_type": "code",
   "execution_count": 3,
   "metadata": {},
   "outputs": [
    {
     "name": "stdout",
     "output_type": "stream",
     "text": [
      "<class 'pandas.core.frame.DataFrame'>\n",
      "RangeIndex: 8807 entries, 0 to 8806\n",
      "Data columns (total 12 columns):\n",
      " #   Column        Non-Null Count  Dtype \n",
      "---  ------        --------------  ----- \n",
      " 0   show_id       8807 non-null   object\n",
      " 1   type          8807 non-null   object\n",
      " 2   title         8807 non-null   object\n",
      " 3   director      6173 non-null   object\n",
      " 4   cast          7982 non-null   object\n",
      " 5   country       7976 non-null   object\n",
      " 6   date_added    8797 non-null   object\n",
      " 7   release_year  8807 non-null   int64 \n",
      " 8   rating        8803 non-null   object\n",
      " 9   duration      8804 non-null   object\n",
      " 10  listed_in     8807 non-null   object\n",
      " 11  description   8807 non-null   object\n",
      "dtypes: int64(1), object(11)\n",
      "memory usage: 825.8+ KB\n"
     ]
    }
   ],
   "source": [
    "df=pd.read_csv('https://d2beiqkhq929f0.cloudfront.net/public_assets/assets/000/000/940/original/netflix.csv')\n",
    "df.info()"
   ]
  },
  {
   "cell_type": "code",
   "execution_count": 3,
   "metadata": {},
   "outputs": [],
   "source": [
    "# df.head()"
   ]
  },
  {
   "cell_type": "code",
   "execution_count": 4,
   "metadata": {},
   "outputs": [],
   "source": [
    "genre={}\n",
    "\n",
    "for _, row in df.iterrows():\n",
    "    genre_list=row['listed_in'].split(', ')\n",
    "    for name in genre_list:\n",
    "        if name not in genre.keys():\n",
    "            genre[name]=1\n",
    "        genre[name]+=1\n",
    "\n",
    "keys=list(genre.keys())\n",
    "values=list(genre.values())\n",
    "sorted_index=np.argsort(values)\n",
    "sorted_genre={keys[i]:values[i] for i in sorted_index}\n",
    "\n",
    "df['date_added']=pd.to_datetime(df['date_added'])\n",
    "df['month']=df['date_added'].dt.month\n",
    "df['year']=df['date_added'].dt.year"
   ]
  },
  {
   "cell_type": "code",
   "execution_count": 5,
   "metadata": {},
   "outputs": [
    {
     "data": {
      "text/plain": [
       "show_id                                                        s1\n",
       "type                                                        Movie\n",
       "title                                        Dick Johnson Is Dead\n",
       "director                                          Kirsten Johnson\n",
       "cast                                                          NaN\n",
       "country                                             United States\n",
       "date_added                                    2021-09-25 00:00:00\n",
       "release_year                                                 2020\n",
       "rating                                                      PG-13\n",
       "duration                                                   90 min\n",
       "listed_in                                           Documentaries\n",
       "description     As her father nears the end of his life, filmm...\n",
       "month                                                         9.0\n",
       "year                                                       2021.0\n",
       "Name: 0, dtype: object"
      ]
     },
     "execution_count": 5,
     "metadata": {},
     "output_type": "execute_result"
    }
   ],
   "source": [
    "# sorted_genre\n",
    "# df['type'].value_counts()\n",
    "# df.isna().sum()\n",
    "# df.release_year.value_counts()\n",
    "# df['year'].value_counts()\n",
    "df.loc[0]"
   ]
  },
  {
   "cell_type": "code",
   "execution_count": 5,
   "metadata": {},
   "outputs": [],
   "source": [
    "directors={}\n",
    "\n",
    "for _, row in df.iterrows():\n",
    "    if pd.isna(row['director']):\n",
    "        continue\n",
    "    director_list=row['director'].split(', ')\n",
    "    for name in director_list:\n",
    "        if name not in directors.keys():\n",
    "            directors[name]=1\n",
    "        directors[name]+=1\n",
    "\n",
    "keys=list(directors.keys())\n",
    "values=list(directors.values())\n",
    "sorted_index=np.argsort(values)\n",
    "sorted_directors={keys[i]:values[i] for i in sorted_index[::-1]}\n",
    "\n",
    "# sorted_directors\n",
    "# df['director'].value_counts()"
   ]
  },
  {
   "cell_type": "code",
   "execution_count": 6,
   "metadata": {},
   "outputs": [],
   "source": [
    "cast={}\n",
    "\n",
    "for _, row in df.iterrows():\n",
    "    if pd.isna(row['cast']):\n",
    "        continue\n",
    "    cast_list=row['cast'].split(', ')\n",
    "    for name in cast_list:\n",
    "        if name not in cast.keys():\n",
    "            cast[name]=1\n",
    "        cast[name]+=1\n",
    "\n",
    "keys=list(cast.keys())\n",
    "values=list(cast.values())\n",
    "sorted_index=np.argsort(values)\n",
    "sorted_cast={keys[i]:values[i] for i in sorted_index[::-1]}\n",
    "\n",
    "# sorted_cast"
   ]
  },
  {
   "cell_type": "code",
   "execution_count": 8,
   "metadata": {},
   "outputs": [],
   "source": [
    "# df['country'].value_counts()\n",
    "# df['rating'].value_counts()"
   ]
  },
  {
   "cell_type": "code",
   "execution_count": 7,
   "metadata": {},
   "outputs": [
    {
     "name": "stderr",
     "output_type": "stream",
     "text": [
      "C:\\Users\\prach\\AppData\\Local\\Temp\\ipykernel_1756\\535244065.py:2: SettingWithCopyWarning: \n",
      "A value is trying to be set on a copy of a slice from a DataFrame\n",
      "\n",
      "See the caveats in the documentation: https://pandas.pydata.org/pandas-docs/stable/user_guide/indexing.html#returning-a-view-versus-a-copy\n",
      "  movies.dropna(subset='duration', inplace=True)\n",
      "C:\\Users\\prach\\AppData\\Local\\Temp\\ipykernel_1756\\535244065.py:4: SettingWithCopyWarning: \n",
      "A value is trying to be set on a copy of a slice from a DataFrame\n",
      "\n",
      "See the caveats in the documentation: https://pandas.pydata.org/pandas-docs/stable/user_guide/indexing.html#returning-a-view-versus-a-copy\n",
      "  shows.dropna(subset='duration', inplace=True)\n"
     ]
    }
   ],
   "source": [
    "movies=df[df['type']=='Movie']\n",
    "movies.dropna(subset='duration', inplace=True)\n",
    "shows=df[df['type']=='TV Show']\n",
    "shows.dropna(subset='duration', inplace=True)"
   ]
  },
  {
   "cell_type": "code",
   "execution_count": 45,
   "metadata": {},
   "outputs": [],
   "source": [
    "# movies['dur']=movies['duration'].apply(lambda x:x[:-4])\n",
    "# movies['dur']=movies['dur'].astype(int)\n",
    "# shows['dur']=shows['duration'].apply(lambda x:x.split(' ')[0])\n",
    "# shows['dur']=shows['dur'].astype(int)\n",
    "# df['dur']=df['duration'].apply(lambda x: x.split(' ')[0] if not pd.isna(x) else None)\n",
    "# df['dur']=df['dur'].astype(float)"
   ]
  },
  {
   "cell_type": "code",
   "execution_count": 11,
   "metadata": {},
   "outputs": [],
   "source": [
    "# movies['dur'].describe()\n",
    "# shows['dur'].describe()"
   ]
  },
  {
   "cell_type": "code",
   "execution_count": 8,
   "metadata": {},
   "outputs": [],
   "source": [
    "df['dur']=df['duration'].apply(lambda x: x.split(' ')[0] if not pd.isna(x) else None)\n",
    "df['dur']=df['dur'].astype(float)\n",
    "# sns.histplot(data=movies, x='dur', binwidth=10, stat=\"count\", legend=True)\n",
    "# sns.histplot(data=shows, x='dur' )"
   ]
  },
  {
   "cell_type": "code",
   "execution_count": 9,
   "metadata": {},
   "outputs": [],
   "source": [
    "# sns.countplot(data=df, y='country', orient='v')\n",
    "country={}\n",
    "\n",
    "for _, row in df.iterrows():\n",
    "    if pd.isna(row['country']):\n",
    "        continue\n",
    "    country_list=row['country'].split(', ')\n",
    "    for name in country_list:\n",
    "        if name not in country.keys():\n",
    "            country[name]=1\n",
    "        country[name]+=1\n",
    "\n",
    "keys=list(country.keys())\n",
    "values=list(country.values())\n",
    "sorted_index=np.argsort(values)\n",
    "sorted_country={keys[i]:values[i] for i in sorted_index[::-1]}"
   ]
  },
  {
   "cell_type": "code",
   "execution_count": 10,
   "metadata": {},
   "outputs": [
    {
     "data": {
      "image/png": "[encoded data removed]",
      "text/plain": [
       "<Figure size 1000x400 with 1 Axes>"
      ]
     },
     "metadata": {},
     "output_type": "display_data"
    }
   ],
   "source": [
    "country=pd.DataFrame(sorted_genre, index=['count']).T.reset_index().rename(columns={'index':'country'})\n",
    "\n",
    "fig, ax=plt.subplots(figsize=(10,4))\n",
    "# sns.barplot(country, x='country',y='count', orient='v')\n",
    "sns.countplot(data=df,x='year')\n",
    "plt.xticks(rotation=90)\n",
    "plt.show()"
   ]
  },
  {
   "cell_type": "code",
   "execution_count": 53,
   "metadata": {},
   "outputs": [],
   "source": [
    "df2=df['director'].str.split(', ', expand=True).stack().reset_index()\n",
    "df2=df2.drop(columns=['level_1']).rename(columns={0:'directors'}).set_index('level_0')\n",
    "df_ud=df.merge(df2, how='outer', left_index=True, right_index=True)\n",
    "# df2['index']"
   ]
  },
  {
   "cell_type": "code",
   "execution_count": 47,
   "metadata": {},
   "outputs": [],
   "source": [
    "# df_ud.reset_index(drop=True, inplace=True)\n",
    "df2=df_ud['listed_in'].str.split(', ', expand=True).stack().reset_index()\n",
    "df2=df2.drop(columns=['level_1']).rename(columns={0:'genre'}).set_index('level_0')\n",
    "df_ud=df_ud.merge(df2,how='outer', left_index=True, right_index=True)"
   ]
  },
  {
   "cell_type": "code",
   "execution_count": 48,
   "metadata": {},
   "outputs": [
    {
     "name": "stdout",
     "output_type": "stream",
     "text": [
      "<class 'pandas.core.frame.DataFrame'>\n",
      "Int64Index: 26590 entries, 0 to 8806\n",
      "Data columns (total 17 columns):\n",
      " #   Column        Non-Null Count  Dtype         \n",
      "---  ------        --------------  -----         \n",
      " 0   show_id       26590 non-null  object        \n",
      " 1   type          26590 non-null  object        \n",
      " 2   title         26590 non-null  object        \n",
      " 3   director      20706 non-null  object        \n",
      " 4   cast          24103 non-null  object        \n",
      " 5   country       24506 non-null  object        \n",
      " 6   date_added    26570 non-null  datetime64[ns]\n",
      " 7   release_year  26590 non-null  int64         \n",
      " 8   rating        26584 non-null  object        \n",
      " 9   duration      26587 non-null  object        \n",
      " 10  listed_in     26590 non-null  object        \n",
      " 11  description   26590 non-null  object        \n",
      " 12  month         26570 non-null  float64       \n",
      " 13  year          26570 non-null  float64       \n",
      " 14  dur           26587 non-null  float64       \n",
      " 15  directors     20706 non-null  object        \n",
      " 16  genre         26590 non-null  object        \n",
      "dtypes: datetime64[ns](1), float64(3), int64(1), object(12)\n",
      "memory usage: 3.7+ MB\n"
     ]
    }
   ],
   "source": [
    "# df_ud.drop(columns=['show_id','title','director','cast','date_added','duration','listed_in','description'], inplace=True)\n",
    "df_ud.info()"
   ]
  },
  {
   "cell_type": "code",
   "execution_count": 44,
   "metadata": {},
   "outputs": [],
   "source": [
    "df_ud['type']=df_ud['type'].apply(lambda x: 1 if x=='Movie' else 0)\n",
    "label_encoder_c=preprocessing.LabelEncoder()\n",
    "df_ud['country']=label_encoder_c.fit_transform(df_ud['country'])\n",
    "label_encoder_rating=preprocessing.LabelEncoder()\n",
    "df_ud['rating']=label_encoder_rating.fit_transform(df_ud['rating'])\n",
    "label_encoder_dir=preprocessing.LabelEncoder()\n",
    "df_ud['directors']=label_encoder_dir.fit_transform(df_ud['directors'])\n",
    "label_encoder_g=preprocessing.LabelEncoder()\n",
    "df_ud['genre']=label_encoder_g.fit_transform(df_ud['genre'])"
   ]
  },
  {
   "cell_type": "code",
   "execution_count": 45,
   "metadata": {},
   "outputs": [
    {
     "name": "stderr",
     "output_type": "stream",
     "text": [
      "C:\\Users\\prach\\AppData\\Local\\Temp\\ipykernel_1756\\2298052564.py:1: FutureWarning: The default value of numeric_only in DataFrame.corr is deprecated. In a future version, it will default to False. Select only valid columns or specify the value of numeric_only to silence this warning.\n",
      "  sns.heatmap(df_ud.corr().abs(), cmap='RdYlGn')\n"
     ]
    },
    {
     "data": {
      "text/plain": [
       "<AxesSubplot: >"
      ]
     },
     "execution_count": 45,
     "metadata": {},
     "output_type": "execute_result"
    },
    {
     "data": {
      "image/png": "[encoded data removed]",
      "text/plain": [
       "<Figure size 640x480 with 2 Axes>"
      ]
     },
     "metadata": {},
     "output_type": "display_data"
    }
   ],
   "source": [
    "sns.heatmap(df_ud.corr().abs(), cmap='RdYlGn')\n",
    "# df_ud['type'].value_counts()"
   ]
  },
  {
   "cell_type": "code",
   "execution_count": 78,
   "metadata": {},
   "outputs": [
    {
     "data": {
      "text/plain": [
       "count    8807.000000\n",
       "mean     2014.180198\n",
       "std         8.819312\n",
       "min      1925.000000\n",
       "25%      2013.000000\n",
       "50%      2017.000000\n",
       "75%      2019.000000\n",
       "max      2021.000000\n",
       "Name: release_year, dtype: float64"
      ]
     },
     "execution_count": 78,
     "metadata": {},
     "output_type": "execute_result"
    },
    {
     "data": {
      "image/png": "[encoded data removed]",
      "text/plain": [
       "<Figure size 1500x400 with 1 Axes>"
      ]
     },
     "metadata": {},
     "output_type": "display_data"
    }
   ],
   "source": [
    "# df_ud['show_id'].value_counts()\n",
    "# df_ud[df_ud['show_id']=='s5888']\n",
    "fig, ax=plt.subplots(figsize=(15,4))\n",
    "sns.boxplot(x=df['release_year'])\n",
    "# df[df['dur']>250]\n",
    "df['release_year'].describe()"
   ]
  },
  {
   "cell_type": "code",
   "execution_count": 79,
   "metadata": {},
   "outputs": [
    {
     "data": {
      "text/plain": [
       "United States                            2055\n",
       "India                                     893\n",
       "United Kingdom                            206\n",
       "Canada                                    122\n",
       "Spain                                      97\n",
       "                                         ... \n",
       "United Kingdom, Russia, United States       1\n",
       "Paraguay, Argentina                         1\n",
       "United Kingdom, Malawi                      1\n",
       "Austria, Iraq, United States                1\n",
       "United Arab Emirates, Jordan                1\n",
       "Name: country, Length: 651, dtype: int64"
      ]
     },
     "execution_count": 79,
     "metadata": {},
     "output_type": "execute_result"
    }
   ],
   "source": [
    "movies['country'].value_counts()"
   ]
  },
  {
   "cell_type": "code",
   "execution_count": 80,
   "metadata": {},
   "outputs": [
    {
     "data": {
      "text/plain": [
       "United States                                    760\n",
       "United Kingdom                                   213\n",
       "Japan                                            169\n",
       "South Korea                                      158\n",
       "India                                             79\n",
       "                                                ... \n",
       "Belarus                                            1\n",
       "United Kingdom, Australia                          1\n",
       "France, Australia, Germany                         1\n",
       "Australia, New Zealand, United States              1\n",
       "United States, France, South Korea, Indonesia      1\n",
       "Name: country, Length: 196, dtype: int64"
      ]
     },
     "execution_count": 80,
     "metadata": {},
     "output_type": "execute_result"
    }
   ],
   "source": [
    "shows['country'].value_counts()"
   ]
  },
  {
   "cell_type": "code",
   "execution_count": 85,
   "metadata": {},
   "outputs": [],
   "source": [
    "directors={}\n",
    "\n",
    "for _, row in shows.iterrows():\n",
    "    if pd.isna(row['director']):\n",
    "        continue\n",
    "    director_list=row['director'].split(', ')\n",
    "    for name in director_list:\n",
    "        if name not in directors.keys():\n",
    "            directors[name]=1\n",
    "        directors[name]+=1\n",
    "\n",
    "keys=list(directors.keys())\n",
    "values=list(directors.values())\n",
    "sorted_index=np.argsort(values)\n",
    "sorted_directors={keys[i]:values[i] for i in sorted_index[::-1]}\n",
    "\n",
    "# sorted_directors\n",
    "# df['director'].value_counts()"
   ]
  },
  {
   "cell_type": "code",
   "execution_count": 91,
   "metadata": {},
   "outputs": [
    {
     "data": {
      "text/plain": [
       "83"
      ]
     },
     "execution_count": 91,
     "metadata": {},
     "output_type": "execute_result"
    }
   ],
   "source": [
    "# len(directors)\n",
    "# temp=sorted_directors\n",
    "# common=[name for name in directors.keys() if name in temp.keys()]\n",
    "len(common)"
   ]
  },
  {
   "cell_type": "code",
   "execution_count": 96,
   "metadata": {},
   "outputs": [],
   "source": [
    "cast={}\n",
    "\n",
    "for _, row in shows.iterrows():\n",
    "    if pd.isna(row['cast']):\n",
    "        continue\n",
    "    cast_list=row['cast'].split(', ')\n",
    "    for name in cast_list:\n",
    "        if name not in cast.keys():\n",
    "            cast[name]=1\n",
    "        cast[name]+=1\n",
    "\n",
    "keys=list(cast.keys())\n",
    "values=list(cast.values())\n",
    "sorted_index=np.argsort(values)\n",
    "sorted_cast={keys[i]:values[i] for i in sorted_index[::-1]}"
   ]
  },
  {
   "cell_type": "code",
   "execution_count": 98,
   "metadata": {},
   "outputs": [
    {
     "data": {
      "text/plain": [
       "4375"
      ]
     },
     "execution_count": 98,
     "metadata": {},
     "output_type": "execute_result"
    }
   ],
   "source": [
    "common=[name for name in cast.keys() if name in temp.keys()]\n",
    "len(common)\n",
    "# temp=sorted_cast"
   ]
  },
  {
   "cell_type": "code",
   "execution_count": 105,
   "metadata": {},
   "outputs": [
    {
     "data": {
      "text/plain": [
       "312.0"
      ]
     },
     "execution_count": 105,
     "metadata": {},
     "output_type": "execute_result"
    }
   ],
   "source": [
    "# sorted_country\n",
    "# movies['duration'].value_counts()\n",
    "df['dur'].max()"
   ]
  },
  {
   "cell_type": "code",
   "execution_count": 119,
   "metadata": {},
   "outputs": [],
   "source": [
    "genre={}\n",
    "\n",
    "for _, row in movies.iterrows():\n",
    "    genre_list=row['listed_in'].split(', ')\n",
    "    for name in genre_list:\n",
    "        if name not in genre.keys():\n",
    "            genre[name]=1\n",
    "        genre[name]+=1\n",
    "\n",
    "keys=list(genre.keys())\n",
    "values=list(genre.values())\n",
    "sorted_index=np.argsort(values)\n",
    "sorted_genre={keys[i]:values[i] for i in sorted_index}"
   ]
  },
  {
   "cell_type": "code",
   "execution_count": 120,
   "metadata": {},
   "outputs": [
    {
     "data": {
      "text/plain": [
       "{'Movies': 55,\n",
       " 'Faith & Spirituality': 66,\n",
       " 'Cult Movies': 72,\n",
       " 'Anime Features': 72,\n",
       " 'LGBTQ Movies': 103,\n",
       " 'Classic Movies': 117,\n",
       " 'Sports Movies': 220,\n",
       " 'Sci-Fi & Fantasy': 244,\n",
       " 'Stand-Up Comedy': 344,\n",
       " 'Horror Movies': 358,\n",
       " 'Music & Musicals': 376,\n",
       " 'Thrillers': 578,\n",
       " 'Romantic Movies': 617,\n",
       " 'Children & Family Movies': 642,\n",
       " 'Independent Movies': 757,\n",
       " 'Action & Adventure': 860,\n",
       " 'Documentaries': 870,\n",
       " 'Comedies': 1675,\n",
       " 'Dramas': 2428,\n",
       " 'International Movies': 2753}"
      ]
     },
     "execution_count": 120,
     "metadata": {},
     "output_type": "execute_result"
    }
   ],
   "source": [
    "# sns.boxplot(x=shows['release_year'])\n",
    "# shows.info()\n",
    "sorted_genre"
   ]
  }
 ],
 "metadata": {
  "kernelspec": {
   "display_name": "Python 3.10.8 64-bit (microsoft store)",
   "language": "python",
   "name": "python3"
  },
  "language_info": {
   "codemirror_mode": {
    "name": "ipython",
    "version": 3
   },
   "file_extension": ".py",
   "mimetype": "text/x-python",
   "name": "python",
   "nbconvert_exporter": "python",
   "pygments_lexer": "ipython3",
   "version": "3.10.8"
  },
  "orig_nbformat": 4,
  "vscode": {
   "interpreter": {
    "hash": "92d1e4547c8312373f5d948a00953d063df2d2f2d664925857145eb448ccc985"
   }
  }
 },
 "nbformat": 4,
 "nbformat_minor": 2
}
